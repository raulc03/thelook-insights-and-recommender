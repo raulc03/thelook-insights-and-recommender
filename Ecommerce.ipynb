{
 "cells": [
  {
   "cell_type": "code",
   "execution_count": 35,
   "id": "2a03f15d-65ec-4718-8a2b-8c06405cd59b",
   "metadata": {},
   "outputs": [],
   "source": [
    "from google.cloud import bigquery\n",
    "import pandas as pd\n",
    "import matplotlib.pyplot as plt\n",
    "import seaborn as sns\n",
    "\n",
    "sns.set(style=\"whitegrid\", palette=\"pastel\")"
   ]
  },
  {
   "cell_type": "markdown",
   "id": "2cdb36ef-7498-4975-8082-01fe3b42695d",
   "metadata": {},
   "source": [
    "# Conectando con Big Query"
   ]
  },
  {
   "cell_type": "code",
   "execution_count": 3,
   "id": "b1c03618-9e29-4001-a9ff-f13059b4c3bb",
   "metadata": {},
   "outputs": [],
   "source": [
    "client = bigquery.Client()"
   ]
  },
  {
   "cell_type": "markdown",
   "id": "c75d799b-2d6a-4913-8ed6-33b3dc7d2a8d",
   "metadata": {},
   "source": [
    "## Obteniendo el dataset 'TheLook Ecommerce'"
   ]
  },
  {
   "cell_type": "code",
   "execution_count": 4,
   "id": "b74807b0-d2ea-4ee1-8f7c-3a6b954344b4",
   "metadata": {},
   "outputs": [],
   "source": [
    "# Referencia a \"thelook_ecommerce\" dataset\n",
    "dataset_ref = client.dataset(\"thelook_ecommerce\",\n",
    "                             project=\"bigquery-public-data\")\n",
    "\n",
    "# Solicitamos el dataset mediante el API\n",
    "dataset = client.get_dataset(dataset_ref)"
   ]
  },
  {
   "cell_type": "markdown",
   "id": "262af33f-e0e6-496a-a136-2f372cede2de",
   "metadata": {},
   "source": [
    "## Listando tablas del dataset"
   ]
  },
  {
   "cell_type": "code",
   "execution_count": 5,
   "id": "6d1d315f-b97e-4aa5-8772-c342a5624ce3",
   "metadata": {},
   "outputs": [
    {
     "name": "stdout",
     "output_type": "stream",
     "text": [
      "distribution_centers\n",
      "events\n",
      "inventory_items\n",
      "order_items\n",
      "orders\n",
      "products\n",
      "users\n"
     ]
    }
   ],
   "source": [
    "tables = list(client.list_tables(dataset))\n",
    "\n",
    "for table in tables:\n",
    "    print(table.table_id)"
   ]
  },
  {
   "cell_type": "markdown",
   "id": "ecbea5a7-ed75-44c3-bed8-a50075f479bb",
   "metadata": {},
   "source": [
    "## Ajustando configuración"
   ]
  },
  {
   "cell_type": "code",
   "execution_count": 6,
   "id": "369eacb1-05a1-493d-abde-ff7e97ccb1ef",
   "metadata": {},
   "outputs": [],
   "source": [
    "LIMIT = 1000*1000*1000 #1GB\n",
    "safe_config = bigquery.QueryJobConfig(maximum_bytes_billed=LIMIT)"
   ]
  },
  {
   "cell_type": "markdown",
   "id": "9362cfb5-49e9-4c27-b5e9-5ccefb9c874d",
   "metadata": {},
   "source": [
    "# Revisando Tablas del dataset"
   ]
  },
  {
   "cell_type": "code",
   "execution_count": 7,
   "id": "a0748467-add4-48e6-b214-c891b3e72f05",
   "metadata": {},
   "outputs": [],
   "source": [
    "def get_table(table: str):\n",
    "    table_ref = dataset_ref.table(table)\n",
    "    tbl = client.get_table(table_ref)\n",
    "\n",
    "    return tbl"
   ]
  },
  {
   "cell_type": "markdown",
   "id": "b9753b72-80e5-4e61-b071-f2698aca64f0",
   "metadata": {
    "jp-MarkdownHeadingCollapsed": true
   },
   "source": [
    "## Centros de Distribución"
   ]
  },
  {
   "cell_type": "code",
   "execution_count": 8,
   "id": "ba2e04bf-700f-4752-93c4-c5813b84cd83",
   "metadata": {},
   "outputs": [
    {
     "data": {
      "text/html": [
       "<div>\n",
       "<style scoped>\n",
       "    .dataframe tbody tr th:only-of-type {\n",
       "        vertical-align: middle;\n",
       "    }\n",
       "\n",
       "    .dataframe tbody tr th {\n",
       "        vertical-align: top;\n",
       "    }\n",
       "\n",
       "    .dataframe thead th {\n",
       "        text-align: right;\n",
       "    }\n",
       "</style>\n",
       "<table border=\"1\" class=\"dataframe\">\n",
       "  <thead>\n",
       "    <tr style=\"text-align: right;\">\n",
       "      <th></th>\n",
       "      <th>id</th>\n",
       "      <th>name</th>\n",
       "      <th>latitude</th>\n",
       "      <th>longitude</th>\n",
       "      <th>distribution_center_geom</th>\n",
       "    </tr>\n",
       "  </thead>\n",
       "  <tbody>\n",
       "    <tr>\n",
       "      <th>0</th>\n",
       "      <td>6</td>\n",
       "      <td>Port Authority of New York/New Jersey NY/NJ</td>\n",
       "      <td>40.6340</td>\n",
       "      <td>-73.7834</td>\n",
       "      <td>POINT(-73.7834 40.634)</td>\n",
       "    </tr>\n",
       "    <tr>\n",
       "      <th>1</th>\n",
       "      <td>10</td>\n",
       "      <td>Savannah GA</td>\n",
       "      <td>32.0167</td>\n",
       "      <td>-81.1167</td>\n",
       "      <td>POINT(-81.1167 32.0167)</td>\n",
       "    </tr>\n",
       "    <tr>\n",
       "      <th>2</th>\n",
       "      <td>5</td>\n",
       "      <td>New Orleans LA</td>\n",
       "      <td>29.9500</td>\n",
       "      <td>-90.0667</td>\n",
       "      <td>POINT(-90.0667 29.95)</td>\n",
       "    </tr>\n",
       "    <tr>\n",
       "      <th>3</th>\n",
       "      <td>4</td>\n",
       "      <td>Los Angeles CA</td>\n",
       "      <td>34.0500</td>\n",
       "      <td>-118.2500</td>\n",
       "      <td>POINT(-118.25 34.05)</td>\n",
       "    </tr>\n",
       "    <tr>\n",
       "      <th>4</th>\n",
       "      <td>3</td>\n",
       "      <td>Houston TX</td>\n",
       "      <td>29.7604</td>\n",
       "      <td>-95.3698</td>\n",
       "      <td>POINT(-95.3698 29.7604)</td>\n",
       "    </tr>\n",
       "  </tbody>\n",
       "</table>\n",
       "</div>"
      ],
      "text/plain": [
       "   id                                         name  latitude  longitude  \\\n",
       "0   6  Port Authority of New York/New Jersey NY/NJ   40.6340   -73.7834   \n",
       "1  10                                  Savannah GA   32.0167   -81.1167   \n",
       "2   5                               New Orleans LA   29.9500   -90.0667   \n",
       "3   4                               Los Angeles CA   34.0500  -118.2500   \n",
       "4   3                                   Houston TX   29.7604   -95.3698   \n",
       "\n",
       "  distribution_center_geom  \n",
       "0   POINT(-73.7834 40.634)  \n",
       "1  POINT(-81.1167 32.0167)  \n",
       "2    POINT(-90.0667 29.95)  \n",
       "3     POINT(-118.25 34.05)  \n",
       "4  POINT(-95.3698 29.7604)  "
      ]
     },
     "execution_count": 8,
     "metadata": {},
     "output_type": "execute_result"
    }
   ],
   "source": [
    "table = get_table('distribution_centers')\n",
    "client.list_rows(table, max_results=5).to_dataframe()"
   ]
  },
  {
   "cell_type": "markdown",
   "id": "2c6c0cc9-eff6-4387-b6a9-045c292a29a8",
   "metadata": {},
   "source": [
    "Tabla que contiene información sobre la ubicación de los centros de distribución:\n",
    "- name: Nombre de las ciudades de US donde se encuentran los centros de distribución\n",
    "- latitude: Parte de la coordenada para ubicar el centro de distribución en la tierra\n",
    "- longitud: Parde de la coordenada para ubicar el centro de distribución en la tierra\n",
    "- distribution_center_geom: Coordenada completa de la posición del centro de distribución"
   ]
  },
  {
   "cell_type": "markdown",
   "id": "a7143229-aebd-4659-bed4-63d6c192be7a",
   "metadata": {
    "jp-MarkdownHeadingCollapsed": true
   },
   "source": [
    "## Eventos"
   ]
  },
  {
   "cell_type": "code",
   "execution_count": 9,
   "id": "7d7c3e1b-903f-426d-8858-c26d708a6b05",
   "metadata": {},
   "outputs": [
    {
     "data": {
      "text/html": [
       "<div>\n",
       "<style scoped>\n",
       "    .dataframe tbody tr th:only-of-type {\n",
       "        vertical-align: middle;\n",
       "    }\n",
       "\n",
       "    .dataframe tbody tr th {\n",
       "        vertical-align: top;\n",
       "    }\n",
       "\n",
       "    .dataframe thead th {\n",
       "        text-align: right;\n",
       "    }\n",
       "</style>\n",
       "<table border=\"1\" class=\"dataframe\">\n",
       "  <thead>\n",
       "    <tr style=\"text-align: right;\">\n",
       "      <th></th>\n",
       "      <th>id</th>\n",
       "      <th>user_id</th>\n",
       "      <th>sequence_number</th>\n",
       "      <th>session_id</th>\n",
       "      <th>created_at</th>\n",
       "      <th>ip_address</th>\n",
       "      <th>city</th>\n",
       "      <th>state</th>\n",
       "      <th>postal_code</th>\n",
       "      <th>browser</th>\n",
       "      <th>traffic_source</th>\n",
       "      <th>uri</th>\n",
       "      <th>event_type</th>\n",
       "    </tr>\n",
       "  </thead>\n",
       "  <tbody>\n",
       "    <tr>\n",
       "      <th>0</th>\n",
       "      <td>1967385</td>\n",
       "      <td>&lt;NA&gt;</td>\n",
       "      <td>3</td>\n",
       "      <td>fd285735-f822-48b9-b08e-1f6bf9288c1d</td>\n",
       "      <td>2021-02-08 01:28:00+00:00</td>\n",
       "      <td>139.156.64.182</td>\n",
       "      <td>Sapporo</td>\n",
       "      <td>Hokkaido</td>\n",
       "      <td>003-0021</td>\n",
       "      <td>Safari</td>\n",
       "      <td>Organic</td>\n",
       "      <td>/cancel</td>\n",
       "      <td>cancel</td>\n",
       "    </tr>\n",
       "    <tr>\n",
       "      <th>1</th>\n",
       "      <td>2208039</td>\n",
       "      <td>&lt;NA&gt;</td>\n",
       "      <td>3</td>\n",
       "      <td>600d7ed7-a3b3-4544-bfbc-62a27cf75cbb</td>\n",
       "      <td>2024-05-28 12:48:00+00:00</td>\n",
       "      <td>78.247.98.58</td>\n",
       "      <td>São Paulo</td>\n",
       "      <td>São Paulo</td>\n",
       "      <td>02220-000</td>\n",
       "      <td>Safari</td>\n",
       "      <td>Facebook</td>\n",
       "      <td>/cancel</td>\n",
       "      <td>cancel</td>\n",
       "    </tr>\n",
       "    <tr>\n",
       "      <th>2</th>\n",
       "      <td>1669255</td>\n",
       "      <td>&lt;NA&gt;</td>\n",
       "      <td>3</td>\n",
       "      <td>b0005e7d-7282-4116-b43b-8a0d8d545edb</td>\n",
       "      <td>2024-07-23 07:09:00+00:00</td>\n",
       "      <td>24.50.213.0</td>\n",
       "      <td>São Paulo</td>\n",
       "      <td>São Paulo</td>\n",
       "      <td>02675-031</td>\n",
       "      <td>Chrome</td>\n",
       "      <td>Email</td>\n",
       "      <td>/cancel</td>\n",
       "      <td>cancel</td>\n",
       "    </tr>\n",
       "    <tr>\n",
       "      <th>3</th>\n",
       "      <td>2304150</td>\n",
       "      <td>&lt;NA&gt;</td>\n",
       "      <td>3</td>\n",
       "      <td>6468a8df-f4cd-427c-902a-a176120c48d4</td>\n",
       "      <td>2023-05-31 08:22:00+00:00</td>\n",
       "      <td>158.64.97.241</td>\n",
       "      <td>São Paulo</td>\n",
       "      <td>São Paulo</td>\n",
       "      <td>02675-031</td>\n",
       "      <td>Chrome</td>\n",
       "      <td>Email</td>\n",
       "      <td>/cancel</td>\n",
       "      <td>cancel</td>\n",
       "    </tr>\n",
       "    <tr>\n",
       "      <th>4</th>\n",
       "      <td>2035503</td>\n",
       "      <td>&lt;NA&gt;</td>\n",
       "      <td>3</td>\n",
       "      <td>6be47e87-f72a-4f20-b8db-0afb4b9e2724</td>\n",
       "      <td>2024-09-16 04:57:00+00:00</td>\n",
       "      <td>30.28.184.19</td>\n",
       "      <td>São Paulo</td>\n",
       "      <td>São Paulo</td>\n",
       "      <td>02675-031</td>\n",
       "      <td>Firefox</td>\n",
       "      <td>Email</td>\n",
       "      <td>/cancel</td>\n",
       "      <td>cancel</td>\n",
       "    </tr>\n",
       "  </tbody>\n",
       "</table>\n",
       "</div>"
      ],
      "text/plain": [
       "        id  user_id  sequence_number                            session_id  \\\n",
       "0  1967385     <NA>                3  fd285735-f822-48b9-b08e-1f6bf9288c1d   \n",
       "1  2208039     <NA>                3  600d7ed7-a3b3-4544-bfbc-62a27cf75cbb   \n",
       "2  1669255     <NA>                3  b0005e7d-7282-4116-b43b-8a0d8d545edb   \n",
       "3  2304150     <NA>                3  6468a8df-f4cd-427c-902a-a176120c48d4   \n",
       "4  2035503     <NA>                3  6be47e87-f72a-4f20-b8db-0afb4b9e2724   \n",
       "\n",
       "                 created_at      ip_address       city      state postal_code  \\\n",
       "0 2021-02-08 01:28:00+00:00  139.156.64.182    Sapporo   Hokkaido    003-0021   \n",
       "1 2024-05-28 12:48:00+00:00    78.247.98.58  São Paulo  São Paulo   02220-000   \n",
       "2 2024-07-23 07:09:00+00:00     24.50.213.0  São Paulo  São Paulo   02675-031   \n",
       "3 2023-05-31 08:22:00+00:00   158.64.97.241  São Paulo  São Paulo   02675-031   \n",
       "4 2024-09-16 04:57:00+00:00    30.28.184.19  São Paulo  São Paulo   02675-031   \n",
       "\n",
       "   browser traffic_source      uri event_type  \n",
       "0   Safari        Organic  /cancel     cancel  \n",
       "1   Safari       Facebook  /cancel     cancel  \n",
       "2   Chrome          Email  /cancel     cancel  \n",
       "3   Chrome          Email  /cancel     cancel  \n",
       "4  Firefox          Email  /cancel     cancel  "
      ]
     },
     "execution_count": 9,
     "metadata": {},
     "output_type": "execute_result"
    }
   ],
   "source": [
    "table = get_table('events')\n",
    "client.list_rows(table, max_results=5).to_dataframe()"
   ]
  },
  {
   "cell_type": "markdown",
   "id": "537e3a94-2227-4104-bc2a-b73f6b87f38b",
   "metadata": {},
   "source": [
    "La tabla contiene la secuencia de eventos según identificadores como `user_id` y `session_id`."
   ]
  },
  {
   "cell_type": "markdown",
   "id": "b427acef-4649-46e2-9c51-545393cbc425",
   "metadata": {
    "jp-MarkdownHeadingCollapsed": true
   },
   "source": [
    "## Inventario de Items"
   ]
  },
  {
   "cell_type": "code",
   "execution_count": 10,
   "id": "94c0826d-14c0-4fb0-85e4-3c609d5b35f3",
   "metadata": {},
   "outputs": [
    {
     "data": {
      "text/html": [
       "<div>\n",
       "<style scoped>\n",
       "    .dataframe tbody tr th:only-of-type {\n",
       "        vertical-align: middle;\n",
       "    }\n",
       "\n",
       "    .dataframe tbody tr th {\n",
       "        vertical-align: top;\n",
       "    }\n",
       "\n",
       "    .dataframe thead th {\n",
       "        text-align: right;\n",
       "    }\n",
       "</style>\n",
       "<table border=\"1\" class=\"dataframe\">\n",
       "  <thead>\n",
       "    <tr style=\"text-align: right;\">\n",
       "      <th></th>\n",
       "      <th>id</th>\n",
       "      <th>product_id</th>\n",
       "      <th>created_at</th>\n",
       "      <th>sold_at</th>\n",
       "      <th>cost</th>\n",
       "      <th>product_category</th>\n",
       "      <th>product_name</th>\n",
       "      <th>product_brand</th>\n",
       "      <th>product_retail_price</th>\n",
       "      <th>product_department</th>\n",
       "      <th>product_sku</th>\n",
       "      <th>product_distribution_center_id</th>\n",
       "    </tr>\n",
       "  </thead>\n",
       "  <tbody>\n",
       "    <tr>\n",
       "      <th>0</th>\n",
       "      <td>53477</td>\n",
       "      <td>13844</td>\n",
       "      <td>2022-10-10 10:46:28+00:00</td>\n",
       "      <td>2022-10-12 12:39:28+00:00</td>\n",
       "      <td>2.76804</td>\n",
       "      <td>Accessories</td>\n",
       "      <td>(ONE) 1 Satin Headband</td>\n",
       "      <td>Funny Girl Designs</td>\n",
       "      <td>6.99</td>\n",
       "      <td>Women</td>\n",
       "      <td>2A3E953A5E3D81E67945BCE5519F84C8</td>\n",
       "      <td>7</td>\n",
       "    </tr>\n",
       "    <tr>\n",
       "      <th>1</th>\n",
       "      <td>53478</td>\n",
       "      <td>13844</td>\n",
       "      <td>2021-03-10 16:56:00+00:00</td>\n",
       "      <td>NaT</td>\n",
       "      <td>2.76804</td>\n",
       "      <td>Accessories</td>\n",
       "      <td>(ONE) 1 Satin Headband</td>\n",
       "      <td>Funny Girl Designs</td>\n",
       "      <td>6.99</td>\n",
       "      <td>Women</td>\n",
       "      <td>2A3E953A5E3D81E67945BCE5519F84C8</td>\n",
       "      <td>7</td>\n",
       "    </tr>\n",
       "    <tr>\n",
       "      <th>2</th>\n",
       "      <td>82713</td>\n",
       "      <td>13844</td>\n",
       "      <td>2024-02-25 00:07:56+00:00</td>\n",
       "      <td>2024-04-21 05:52:56+00:00</td>\n",
       "      <td>2.76804</td>\n",
       "      <td>Accessories</td>\n",
       "      <td>(ONE) 1 Satin Headband</td>\n",
       "      <td>Funny Girl Designs</td>\n",
       "      <td>6.99</td>\n",
       "      <td>Women</td>\n",
       "      <td>2A3E953A5E3D81E67945BCE5519F84C8</td>\n",
       "      <td>7</td>\n",
       "    </tr>\n",
       "    <tr>\n",
       "      <th>3</th>\n",
       "      <td>82714</td>\n",
       "      <td>13844</td>\n",
       "      <td>2022-10-16 15:11:00+00:00</td>\n",
       "      <td>NaT</td>\n",
       "      <td>2.76804</td>\n",
       "      <td>Accessories</td>\n",
       "      <td>(ONE) 1 Satin Headband</td>\n",
       "      <td>Funny Girl Designs</td>\n",
       "      <td>6.99</td>\n",
       "      <td>Women</td>\n",
       "      <td>2A3E953A5E3D81E67945BCE5519F84C8</td>\n",
       "      <td>7</td>\n",
       "    </tr>\n",
       "    <tr>\n",
       "      <th>4</th>\n",
       "      <td>331100</td>\n",
       "      <td>13844</td>\n",
       "      <td>2024-12-26 21:38:18+00:00</td>\n",
       "      <td>2025-01-05 10:12:18+00:00</td>\n",
       "      <td>2.76804</td>\n",
       "      <td>Accessories</td>\n",
       "      <td>(ONE) 1 Satin Headband</td>\n",
       "      <td>Funny Girl Designs</td>\n",
       "      <td>6.99</td>\n",
       "      <td>Women</td>\n",
       "      <td>2A3E953A5E3D81E67945BCE5519F84C8</td>\n",
       "      <td>7</td>\n",
       "    </tr>\n",
       "  </tbody>\n",
       "</table>\n",
       "</div>"
      ],
      "text/plain": [
       "       id  product_id                created_at                   sold_at  \\\n",
       "0   53477       13844 2022-10-10 10:46:28+00:00 2022-10-12 12:39:28+00:00   \n",
       "1   53478       13844 2021-03-10 16:56:00+00:00                       NaT   \n",
       "2   82713       13844 2024-02-25 00:07:56+00:00 2024-04-21 05:52:56+00:00   \n",
       "3   82714       13844 2022-10-16 15:11:00+00:00                       NaT   \n",
       "4  331100       13844 2024-12-26 21:38:18+00:00 2025-01-05 10:12:18+00:00   \n",
       "\n",
       "      cost product_category            product_name       product_brand  \\\n",
       "0  2.76804      Accessories  (ONE) 1 Satin Headband  Funny Girl Designs   \n",
       "1  2.76804      Accessories  (ONE) 1 Satin Headband  Funny Girl Designs   \n",
       "2  2.76804      Accessories  (ONE) 1 Satin Headband  Funny Girl Designs   \n",
       "3  2.76804      Accessories  (ONE) 1 Satin Headband  Funny Girl Designs   \n",
       "4  2.76804      Accessories  (ONE) 1 Satin Headband  Funny Girl Designs   \n",
       "\n",
       "   product_retail_price product_department                       product_sku  \\\n",
       "0                  6.99              Women  2A3E953A5E3D81E67945BCE5519F84C8   \n",
       "1                  6.99              Women  2A3E953A5E3D81E67945BCE5519F84C8   \n",
       "2                  6.99              Women  2A3E953A5E3D81E67945BCE5519F84C8   \n",
       "3                  6.99              Women  2A3E953A5E3D81E67945BCE5519F84C8   \n",
       "4                  6.99              Women  2A3E953A5E3D81E67945BCE5519F84C8   \n",
       "\n",
       "   product_distribution_center_id  \n",
       "0                               7  \n",
       "1                               7  \n",
       "2                               7  \n",
       "3                               7  \n",
       "4                               7  "
      ]
     },
     "execution_count": 10,
     "metadata": {},
     "output_type": "execute_result"
    }
   ],
   "source": [
    "table = get_table('inventory_items')\n",
    "client.list_rows(table, max_results=5).to_dataframe()"
   ]
  },
  {
   "cell_type": "markdown",
   "id": "0b6a23e2-68ea-4b36-8907-8ec32dd26942",
   "metadata": {},
   "source": [
    "La table contiene información relevante acerca de los items que el ecommerce comercializa."
   ]
  },
  {
   "cell_type": "markdown",
   "id": "30ded28d-108f-4fd2-8a08-b4cc3c7bbda2",
   "metadata": {},
   "source": [
    "## Orden de Items"
   ]
  },
  {
   "cell_type": "code",
   "execution_count": 11,
   "id": "68d61b3e-856c-429f-9ab2-daf7032bd699",
   "metadata": {},
   "outputs": [
    {
     "data": {
      "text/html": [
       "<div>\n",
       "<style scoped>\n",
       "    .dataframe tbody tr th:only-of-type {\n",
       "        vertical-align: middle;\n",
       "    }\n",
       "\n",
       "    .dataframe tbody tr th {\n",
       "        vertical-align: top;\n",
       "    }\n",
       "\n",
       "    .dataframe thead th {\n",
       "        text-align: right;\n",
       "    }\n",
       "</style>\n",
       "<table border=\"1\" class=\"dataframe\">\n",
       "  <thead>\n",
       "    <tr style=\"text-align: right;\">\n",
       "      <th></th>\n",
       "      <th>id</th>\n",
       "      <th>order_id</th>\n",
       "      <th>user_id</th>\n",
       "      <th>product_id</th>\n",
       "      <th>inventory_item_id</th>\n",
       "      <th>status</th>\n",
       "      <th>created_at</th>\n",
       "      <th>shipped_at</th>\n",
       "      <th>delivered_at</th>\n",
       "      <th>returned_at</th>\n",
       "      <th>sale_price</th>\n",
       "    </tr>\n",
       "  </thead>\n",
       "  <tbody>\n",
       "    <tr>\n",
       "      <th>0</th>\n",
       "      <td>4129</td>\n",
       "      <td>2877</td>\n",
       "      <td>2263</td>\n",
       "      <td>14235</td>\n",
       "      <td>11139</td>\n",
       "      <td>Cancelled</td>\n",
       "      <td>2025-01-02 08:34:43+00:00</td>\n",
       "      <td>NaT</td>\n",
       "      <td>NaT</td>\n",
       "      <td>NaT</td>\n",
       "      <td>0.02</td>\n",
       "    </tr>\n",
       "    <tr>\n",
       "      <th>1</th>\n",
       "      <td>20862</td>\n",
       "      <td>14456</td>\n",
       "      <td>11614</td>\n",
       "      <td>14235</td>\n",
       "      <td>56331</td>\n",
       "      <td>Complete</td>\n",
       "      <td>2024-10-06 06:46:05+00:00</td>\n",
       "      <td>2024-10-08 21:25:00+00:00</td>\n",
       "      <td>2024-10-10 05:34:00+00:00</td>\n",
       "      <td>NaT</td>\n",
       "      <td>0.02</td>\n",
       "    </tr>\n",
       "    <tr>\n",
       "      <th>2</th>\n",
       "      <td>166234</td>\n",
       "      <td>114877</td>\n",
       "      <td>92123</td>\n",
       "      <td>14235</td>\n",
       "      <td>449042</td>\n",
       "      <td>Processing</td>\n",
       "      <td>2024-09-16 03:53:33+00:00</td>\n",
       "      <td>NaT</td>\n",
       "      <td>NaT</td>\n",
       "      <td>NaT</td>\n",
       "      <td>0.02</td>\n",
       "    </tr>\n",
       "    <tr>\n",
       "      <th>3</th>\n",
       "      <td>15035</td>\n",
       "      <td>10444</td>\n",
       "      <td>8312</td>\n",
       "      <td>14235</td>\n",
       "      <td>40550</td>\n",
       "      <td>Shipped</td>\n",
       "      <td>2020-06-02 23:05:30+00:00</td>\n",
       "      <td>2020-06-03 19:06:00+00:00</td>\n",
       "      <td>NaT</td>\n",
       "      <td>NaT</td>\n",
       "      <td>0.02</td>\n",
       "    </tr>\n",
       "    <tr>\n",
       "      <th>4</th>\n",
       "      <td>46148</td>\n",
       "      <td>32083</td>\n",
       "      <td>25859</td>\n",
       "      <td>14159</td>\n",
       "      <td>124830</td>\n",
       "      <td>Processing</td>\n",
       "      <td>2024-09-30 14:34:32+00:00</td>\n",
       "      <td>NaT</td>\n",
       "      <td>NaT</td>\n",
       "      <td>NaT</td>\n",
       "      <td>0.49</td>\n",
       "    </tr>\n",
       "  </tbody>\n",
       "</table>\n",
       "</div>"
      ],
      "text/plain": [
       "       id  order_id  user_id  product_id  inventory_item_id      status  \\\n",
       "0    4129      2877     2263       14235              11139   Cancelled   \n",
       "1   20862     14456    11614       14235              56331    Complete   \n",
       "2  166234    114877    92123       14235             449042  Processing   \n",
       "3   15035     10444     8312       14235              40550     Shipped   \n",
       "4   46148     32083    25859       14159             124830  Processing   \n",
       "\n",
       "                 created_at                shipped_at  \\\n",
       "0 2025-01-02 08:34:43+00:00                       NaT   \n",
       "1 2024-10-06 06:46:05+00:00 2024-10-08 21:25:00+00:00   \n",
       "2 2024-09-16 03:53:33+00:00                       NaT   \n",
       "3 2020-06-02 23:05:30+00:00 2020-06-03 19:06:00+00:00   \n",
       "4 2024-09-30 14:34:32+00:00                       NaT   \n",
       "\n",
       "               delivered_at returned_at  sale_price  \n",
       "0                       NaT         NaT        0.02  \n",
       "1 2024-10-10 05:34:00+00:00         NaT        0.02  \n",
       "2                       NaT         NaT        0.02  \n",
       "3                       NaT         NaT        0.02  \n",
       "4                       NaT         NaT        0.49  "
      ]
     },
     "execution_count": 11,
     "metadata": {},
     "output_type": "execute_result"
    }
   ],
   "source": [
    "table = get_table('order_items')\n",
    "client.list_rows(table, max_results=5).to_dataframe()"
   ]
  },
  {
   "cell_type": "markdown",
   "id": "51d4dc3b-5481-48ed-8995-8b4866744ef7",
   "metadata": {},
   "source": [
    "La tabla contiene información de los productos comprados por los usuarios, con los respectivos estados, precios, envíos, etc."
   ]
  },
  {
   "cell_type": "markdown",
   "id": "22f7868a-c9b4-49f1-9dfc-e05b623135ea",
   "metadata": {},
   "source": [
    "## Ordenes"
   ]
  },
  {
   "cell_type": "code",
   "execution_count": 12,
   "id": "c6f99e82-bce0-4783-bdd6-995cc9f881a0",
   "metadata": {},
   "outputs": [
    {
     "data": {
      "text/html": [
       "<div>\n",
       "<style scoped>\n",
       "    .dataframe tbody tr th:only-of-type {\n",
       "        vertical-align: middle;\n",
       "    }\n",
       "\n",
       "    .dataframe tbody tr th {\n",
       "        vertical-align: top;\n",
       "    }\n",
       "\n",
       "    .dataframe thead th {\n",
       "        text-align: right;\n",
       "    }\n",
       "</style>\n",
       "<table border=\"1\" class=\"dataframe\">\n",
       "  <thead>\n",
       "    <tr style=\"text-align: right;\">\n",
       "      <th></th>\n",
       "      <th>order_id</th>\n",
       "      <th>user_id</th>\n",
       "      <th>status</th>\n",
       "      <th>gender</th>\n",
       "      <th>created_at</th>\n",
       "      <th>returned_at</th>\n",
       "      <th>shipped_at</th>\n",
       "      <th>delivered_at</th>\n",
       "      <th>num_of_item</th>\n",
       "    </tr>\n",
       "  </thead>\n",
       "  <tbody>\n",
       "    <tr>\n",
       "      <th>0</th>\n",
       "      <td>8</td>\n",
       "      <td>5</td>\n",
       "      <td>Cancelled</td>\n",
       "      <td>F</td>\n",
       "      <td>2024-09-27 03:41:00+00:00</td>\n",
       "      <td>NaT</td>\n",
       "      <td>NaT</td>\n",
       "      <td>NaT</td>\n",
       "      <td>1</td>\n",
       "    </tr>\n",
       "    <tr>\n",
       "      <th>1</th>\n",
       "      <td>9</td>\n",
       "      <td>6</td>\n",
       "      <td>Cancelled</td>\n",
       "      <td>F</td>\n",
       "      <td>2020-09-21 05:59:00+00:00</td>\n",
       "      <td>NaT</td>\n",
       "      <td>NaT</td>\n",
       "      <td>NaT</td>\n",
       "      <td>1</td>\n",
       "    </tr>\n",
       "    <tr>\n",
       "      <th>2</th>\n",
       "      <td>28</td>\n",
       "      <td>23</td>\n",
       "      <td>Cancelled</td>\n",
       "      <td>F</td>\n",
       "      <td>2021-05-02 01:11:00+00:00</td>\n",
       "      <td>NaT</td>\n",
       "      <td>NaT</td>\n",
       "      <td>NaT</td>\n",
       "      <td>1</td>\n",
       "    </tr>\n",
       "    <tr>\n",
       "      <th>3</th>\n",
       "      <td>35</td>\n",
       "      <td>29</td>\n",
       "      <td>Cancelled</td>\n",
       "      <td>F</td>\n",
       "      <td>2024-09-23 15:59:00+00:00</td>\n",
       "      <td>NaT</td>\n",
       "      <td>NaT</td>\n",
       "      <td>NaT</td>\n",
       "      <td>1</td>\n",
       "    </tr>\n",
       "    <tr>\n",
       "      <th>4</th>\n",
       "      <td>46</td>\n",
       "      <td>36</td>\n",
       "      <td>Cancelled</td>\n",
       "      <td>F</td>\n",
       "      <td>2024-08-27 18:30:00+00:00</td>\n",
       "      <td>NaT</td>\n",
       "      <td>NaT</td>\n",
       "      <td>NaT</td>\n",
       "      <td>1</td>\n",
       "    </tr>\n",
       "  </tbody>\n",
       "</table>\n",
       "</div>"
      ],
      "text/plain": [
       "   order_id  user_id     status gender                created_at returned_at  \\\n",
       "0         8        5  Cancelled      F 2024-09-27 03:41:00+00:00         NaT   \n",
       "1         9        6  Cancelled      F 2020-09-21 05:59:00+00:00         NaT   \n",
       "2        28       23  Cancelled      F 2021-05-02 01:11:00+00:00         NaT   \n",
       "3        35       29  Cancelled      F 2024-09-23 15:59:00+00:00         NaT   \n",
       "4        46       36  Cancelled      F 2024-08-27 18:30:00+00:00         NaT   \n",
       "\n",
       "  shipped_at delivered_at  num_of_item  \n",
       "0        NaT          NaT            1  \n",
       "1        NaT          NaT            1  \n",
       "2        NaT          NaT            1  \n",
       "3        NaT          NaT            1  \n",
       "4        NaT          NaT            1  "
      ]
     },
     "execution_count": 12,
     "metadata": {},
     "output_type": "execute_result"
    }
   ],
   "source": [
    "table = get_table('orders')\n",
    "client.list_rows(table, max_results=5).to_dataframe()"
   ]
  },
  {
   "cell_type": "markdown",
   "id": "63ce46d5-aefb-4896-9360-84dda38780b1",
   "metadata": {},
   "source": [
    "La tabla contiene información de la orden efectuada por el usuario y su respectivo estado."
   ]
  },
  {
   "cell_type": "markdown",
   "id": "7b932e34-8d88-4e73-8063-fa9baf0ce879",
   "metadata": {},
   "source": [
    "## Productos"
   ]
  },
  {
   "cell_type": "code",
   "execution_count": 13,
   "id": "875b4bb5-8205-408a-9c26-312424648994",
   "metadata": {},
   "outputs": [
    {
     "data": {
      "text/html": [
       "<div>\n",
       "<style scoped>\n",
       "    .dataframe tbody tr th:only-of-type {\n",
       "        vertical-align: middle;\n",
       "    }\n",
       "\n",
       "    .dataframe tbody tr th {\n",
       "        vertical-align: top;\n",
       "    }\n",
       "\n",
       "    .dataframe thead th {\n",
       "        text-align: right;\n",
       "    }\n",
       "</style>\n",
       "<table border=\"1\" class=\"dataframe\">\n",
       "  <thead>\n",
       "    <tr style=\"text-align: right;\">\n",
       "      <th></th>\n",
       "      <th>id</th>\n",
       "      <th>cost</th>\n",
       "      <th>category</th>\n",
       "      <th>name</th>\n",
       "      <th>brand</th>\n",
       "      <th>retail_price</th>\n",
       "      <th>department</th>\n",
       "      <th>sku</th>\n",
       "      <th>distribution_center_id</th>\n",
       "    </tr>\n",
       "  </thead>\n",
       "  <tbody>\n",
       "    <tr>\n",
       "      <th>0</th>\n",
       "      <td>13842</td>\n",
       "      <td>2.51875</td>\n",
       "      <td>Accessories</td>\n",
       "      <td>Low Profile Dyed Cotton Twill Cap - Navy W39S55D</td>\n",
       "      <td>MG</td>\n",
       "      <td>6.25</td>\n",
       "      <td>Women</td>\n",
       "      <td>EBD58B8A3F1D72F4206201DA62FB1204</td>\n",
       "      <td>1</td>\n",
       "    </tr>\n",
       "    <tr>\n",
       "      <th>1</th>\n",
       "      <td>13928</td>\n",
       "      <td>2.33835</td>\n",
       "      <td>Accessories</td>\n",
       "      <td>Low Profile Dyed Cotton Twill Cap - Putty W39S55D</td>\n",
       "      <td>MG</td>\n",
       "      <td>5.95</td>\n",
       "      <td>Women</td>\n",
       "      <td>2EAC42424D12436BDD6A5B8A88480CC3</td>\n",
       "      <td>1</td>\n",
       "    </tr>\n",
       "    <tr>\n",
       "      <th>2</th>\n",
       "      <td>14115</td>\n",
       "      <td>4.87956</td>\n",
       "      <td>Accessories</td>\n",
       "      <td>Enzyme Regular Solid Army Caps-Black W35S45D</td>\n",
       "      <td>MG</td>\n",
       "      <td>10.99</td>\n",
       "      <td>Women</td>\n",
       "      <td>EE364229B2791D1EF9355708EFF0BA34</td>\n",
       "      <td>1</td>\n",
       "    </tr>\n",
       "    <tr>\n",
       "      <th>3</th>\n",
       "      <td>14157</td>\n",
       "      <td>4.64877</td>\n",
       "      <td>Accessories</td>\n",
       "      <td>Enzyme Regular Solid Army Caps-Olive W35S45D (...</td>\n",
       "      <td>MG</td>\n",
       "      <td>10.99</td>\n",
       "      <td>Women</td>\n",
       "      <td>00BD13095D06C20B11A2993CA419D16B</td>\n",
       "      <td>1</td>\n",
       "    </tr>\n",
       "    <tr>\n",
       "      <th>4</th>\n",
       "      <td>14273</td>\n",
       "      <td>6.50793</td>\n",
       "      <td>Accessories</td>\n",
       "      <td>Washed Canvas Ivy Cap - Black W11S64C</td>\n",
       "      <td>MG</td>\n",
       "      <td>15.99</td>\n",
       "      <td>Women</td>\n",
       "      <td>F531DC20FDE20B7ADF3A73F52B71D0AF</td>\n",
       "      <td>1</td>\n",
       "    </tr>\n",
       "  </tbody>\n",
       "</table>\n",
       "</div>"
      ],
      "text/plain": [
       "      id     cost     category  \\\n",
       "0  13842  2.51875  Accessories   \n",
       "1  13928  2.33835  Accessories   \n",
       "2  14115  4.87956  Accessories   \n",
       "3  14157  4.64877  Accessories   \n",
       "4  14273  6.50793  Accessories   \n",
       "\n",
       "                                                name brand  retail_price  \\\n",
       "0   Low Profile Dyed Cotton Twill Cap - Navy W39S55D    MG          6.25   \n",
       "1  Low Profile Dyed Cotton Twill Cap - Putty W39S55D    MG          5.95   \n",
       "2       Enzyme Regular Solid Army Caps-Black W35S45D    MG         10.99   \n",
       "3  Enzyme Regular Solid Army Caps-Olive W35S45D (...    MG         10.99   \n",
       "4              Washed Canvas Ivy Cap - Black W11S64C    MG         15.99   \n",
       "\n",
       "  department                               sku  distribution_center_id  \n",
       "0      Women  EBD58B8A3F1D72F4206201DA62FB1204                       1  \n",
       "1      Women  2EAC42424D12436BDD6A5B8A88480CC3                       1  \n",
       "2      Women  EE364229B2791D1EF9355708EFF0BA34                       1  \n",
       "3      Women  00BD13095D06C20B11A2993CA419D16B                       1  \n",
       "4      Women  F531DC20FDE20B7ADF3A73F52B71D0AF                       1  "
      ]
     },
     "execution_count": 13,
     "metadata": {},
     "output_type": "execute_result"
    }
   ],
   "source": [
    "table = get_table('products')\n",
    "client.list_rows(table, max_results=5).to_dataframe()"
   ]
  },
  {
   "cell_type": "markdown",
   "id": "627526a9-7e4b-48c4-8fa1-8a4dc480c99a",
   "metadata": {},
   "source": [
    "Columna con la información de cada producto que se vende en los distintos centros de distribución"
   ]
  },
  {
   "cell_type": "markdown",
   "id": "2805c9a9-c6a7-4bb5-af4d-c0991db5d35d",
   "metadata": {},
   "source": [
    "## Usuarios"
   ]
  },
  {
   "cell_type": "code",
   "execution_count": 14,
   "id": "51e67011-c698-4616-a556-8982318bee28",
   "metadata": {},
   "outputs": [
    {
     "data": {
      "text/html": [
       "<div>\n",
       "<style scoped>\n",
       "    .dataframe tbody tr th:only-of-type {\n",
       "        vertical-align: middle;\n",
       "    }\n",
       "\n",
       "    .dataframe tbody tr th {\n",
       "        vertical-align: top;\n",
       "    }\n",
       "\n",
       "    .dataframe thead th {\n",
       "        text-align: right;\n",
       "    }\n",
       "</style>\n",
       "<table border=\"1\" class=\"dataframe\">\n",
       "  <thead>\n",
       "    <tr style=\"text-align: right;\">\n",
       "      <th></th>\n",
       "      <th>id</th>\n",
       "      <th>first_name</th>\n",
       "      <th>last_name</th>\n",
       "      <th>email</th>\n",
       "      <th>age</th>\n",
       "      <th>gender</th>\n",
       "      <th>state</th>\n",
       "      <th>street_address</th>\n",
       "      <th>postal_code</th>\n",
       "      <th>city</th>\n",
       "      <th>country</th>\n",
       "      <th>latitude</th>\n",
       "      <th>longitude</th>\n",
       "      <th>traffic_source</th>\n",
       "      <th>created_at</th>\n",
       "      <th>user_geom</th>\n",
       "    </tr>\n",
       "  </thead>\n",
       "  <tbody>\n",
       "    <tr>\n",
       "      <th>0</th>\n",
       "      <td>5687</td>\n",
       "      <td>Alisha</td>\n",
       "      <td>Kelly</td>\n",
       "      <td>alishakelly@example.net</td>\n",
       "      <td>12</td>\n",
       "      <td>F</td>\n",
       "      <td>Acre</td>\n",
       "      <td>4989 Heather Drive Suite 895</td>\n",
       "      <td>69980-000</td>\n",
       "      <td>null</td>\n",
       "      <td>Brasil</td>\n",
       "      <td>-8.065346</td>\n",
       "      <td>-72.870949</td>\n",
       "      <td>Search</td>\n",
       "      <td>2019-11-13 16:07:00+00:00</td>\n",
       "      <td>POINT(-72.87094866 -8.065346116)</td>\n",
       "    </tr>\n",
       "    <tr>\n",
       "      <th>1</th>\n",
       "      <td>21589</td>\n",
       "      <td>Ellen</td>\n",
       "      <td>Diaz</td>\n",
       "      <td>ellendiaz@example.com</td>\n",
       "      <td>37</td>\n",
       "      <td>F</td>\n",
       "      <td>Acre</td>\n",
       "      <td>16868 Kathryn Path Apt. 269</td>\n",
       "      <td>69980-000</td>\n",
       "      <td>null</td>\n",
       "      <td>Brasil</td>\n",
       "      <td>-8.065346</td>\n",
       "      <td>-72.870949</td>\n",
       "      <td>Search</td>\n",
       "      <td>2023-04-13 06:41:00+00:00</td>\n",
       "      <td>POINT(-72.87094866 -8.065346116)</td>\n",
       "    </tr>\n",
       "    <tr>\n",
       "      <th>2</th>\n",
       "      <td>71567</td>\n",
       "      <td>Michelle</td>\n",
       "      <td>Smith</td>\n",
       "      <td>michellesmith@example.org</td>\n",
       "      <td>46</td>\n",
       "      <td>F</td>\n",
       "      <td>Acre</td>\n",
       "      <td>9530 Jonathan Mission</td>\n",
       "      <td>69980-000</td>\n",
       "      <td>null</td>\n",
       "      <td>Brasil</td>\n",
       "      <td>-8.065346</td>\n",
       "      <td>-72.870949</td>\n",
       "      <td>Search</td>\n",
       "      <td>2024-08-22 12:06:00+00:00</td>\n",
       "      <td>POINT(-72.87094866 -8.065346116)</td>\n",
       "    </tr>\n",
       "    <tr>\n",
       "      <th>3</th>\n",
       "      <td>94294</td>\n",
       "      <td>Theresa</td>\n",
       "      <td>Williamson</td>\n",
       "      <td>theresawilliamson@example.org</td>\n",
       "      <td>39</td>\n",
       "      <td>F</td>\n",
       "      <td>Acre</td>\n",
       "      <td>5932 Robert Bridge Suite 700</td>\n",
       "      <td>69980-000</td>\n",
       "      <td>null</td>\n",
       "      <td>Brasil</td>\n",
       "      <td>-8.065346</td>\n",
       "      <td>-72.870949</td>\n",
       "      <td>Search</td>\n",
       "      <td>2023-06-16 17:52:00+00:00</td>\n",
       "      <td>POINT(-72.87094866 -8.065346116)</td>\n",
       "    </tr>\n",
       "    <tr>\n",
       "      <th>4</th>\n",
       "      <td>89188</td>\n",
       "      <td>Eric</td>\n",
       "      <td>Mclean</td>\n",
       "      <td>ericmclean@example.com</td>\n",
       "      <td>60</td>\n",
       "      <td>M</td>\n",
       "      <td>Acre</td>\n",
       "      <td>45179 Myers Land Suite 315</td>\n",
       "      <td>69980-000</td>\n",
       "      <td>null</td>\n",
       "      <td>Brasil</td>\n",
       "      <td>-8.065346</td>\n",
       "      <td>-72.870949</td>\n",
       "      <td>Organic</td>\n",
       "      <td>2023-11-27 11:29:00+00:00</td>\n",
       "      <td>POINT(-72.87094866 -8.065346116)</td>\n",
       "    </tr>\n",
       "  </tbody>\n",
       "</table>\n",
       "</div>"
      ],
      "text/plain": [
       "      id first_name   last_name                          email  age gender  \\\n",
       "0   5687     Alisha       Kelly        alishakelly@example.net   12      F   \n",
       "1  21589      Ellen        Diaz          ellendiaz@example.com   37      F   \n",
       "2  71567   Michelle       Smith      michellesmith@example.org   46      F   \n",
       "3  94294    Theresa  Williamson  theresawilliamson@example.org   39      F   \n",
       "4  89188       Eric      Mclean         ericmclean@example.com   60      M   \n",
       "\n",
       "  state                street_address postal_code  city country  latitude  \\\n",
       "0  Acre  4989 Heather Drive Suite 895   69980-000  null  Brasil -8.065346   \n",
       "1  Acre   16868 Kathryn Path Apt. 269   69980-000  null  Brasil -8.065346   \n",
       "2  Acre         9530 Jonathan Mission   69980-000  null  Brasil -8.065346   \n",
       "3  Acre  5932 Robert Bridge Suite 700   69980-000  null  Brasil -8.065346   \n",
       "4  Acre    45179 Myers Land Suite 315   69980-000  null  Brasil -8.065346   \n",
       "\n",
       "   longitude traffic_source                created_at  \\\n",
       "0 -72.870949         Search 2019-11-13 16:07:00+00:00   \n",
       "1 -72.870949         Search 2023-04-13 06:41:00+00:00   \n",
       "2 -72.870949         Search 2024-08-22 12:06:00+00:00   \n",
       "3 -72.870949         Search 2023-06-16 17:52:00+00:00   \n",
       "4 -72.870949        Organic 2023-11-27 11:29:00+00:00   \n",
       "\n",
       "                          user_geom  \n",
       "0  POINT(-72.87094866 -8.065346116)  \n",
       "1  POINT(-72.87094866 -8.065346116)  \n",
       "2  POINT(-72.87094866 -8.065346116)  \n",
       "3  POINT(-72.87094866 -8.065346116)  \n",
       "4  POINT(-72.87094866 -8.065346116)  "
      ]
     },
     "execution_count": 14,
     "metadata": {},
     "output_type": "execute_result"
    }
   ],
   "source": [
    "table = get_table('users')\n",
    "client.list_rows(table, max_results=5).to_dataframe()"
   ]
  },
  {
   "cell_type": "markdown",
   "id": "a94d8244-9357-46ba-974b-2f7eb148261a",
   "metadata": {},
   "source": [
    "Tabla con la información de cada usuario del ecommerce. Se almacenan datos importantes como el género, edad, ubicación, etc."
   ]
  },
  {
   "cell_type": "code",
   "execution_count": 15,
   "id": "5176b2d2-79ed-43ba-84fd-df86ab708e45",
   "metadata": {},
   "outputs": [],
   "source": [
    "# Tablas\n",
    "orders_table = 'bigquery-public-data.thelook_ecommerce.orders'\n",
    "order_items_table = 'bigquery-public-data.thelook_ecommerce.order_items'\n",
    "users_table = 'bigquery-public-data.thelook_ecommerce.users'\n",
    "products_table = 'bigquery-public-data.thelook_ecommerce.products'\n",
    "inventory_items_table ='bigquery-public-data.thelook_ecommerce.inventory_items' \n",
    "events_table = 'bigquery-public-data.thelook_ecommerce.events'\n",
    "distribution_centers = 'bigquery-public-data.thelook_ecommerce.distribution_centers'"
   ]
  },
  {
   "cell_type": "code",
   "execution_count": 19,
   "id": "cfde41c8-454b-43a1-9dea-616e302518b4",
   "metadata": {},
   "outputs": [],
   "source": [
    "def get_query(q: str) -> pd.DataFrame:\n",
    "    return client.query(q, job_config=safe_config).to_dataframe()"
   ]
  },
  {
   "cell_type": "markdown",
   "id": "28b750c5-7bf7-454d-9842-5296b942feba",
   "metadata": {},
   "source": [
    "# Conociendo el negocio"
   ]
  },
  {
   "cell_type": "markdown",
   "id": "140f07f9-9edf-414b-b572-8872aa04c324",
   "metadata": {},
   "source": [
    "## Qué clase de productos vende el negocio?"
   ]
  },
  {
   "cell_type": "code",
   "execution_count": 20,
   "id": "ab461a6b-7aea-44bb-8c83-bfbd77e5bfcb",
   "metadata": {
    "scrolled": true
   },
   "outputs": [
    {
     "data": {
      "text/html": [
       "<div>\n",
       "<style scoped>\n",
       "    .dataframe tbody tr th:only-of-type {\n",
       "        vertical-align: middle;\n",
       "    }\n",
       "\n",
       "    .dataframe tbody tr th {\n",
       "        vertical-align: top;\n",
       "    }\n",
       "\n",
       "    .dataframe thead th {\n",
       "        text-align: right;\n",
       "    }\n",
       "</style>\n",
       "<table border=\"1\" class=\"dataframe\">\n",
       "  <thead>\n",
       "    <tr style=\"text-align: right;\">\n",
       "      <th></th>\n",
       "      <th>category</th>\n",
       "    </tr>\n",
       "  </thead>\n",
       "  <tbody>\n",
       "    <tr>\n",
       "      <th>0</th>\n",
       "      <td>Accessories</td>\n",
       "    </tr>\n",
       "    <tr>\n",
       "      <th>1</th>\n",
       "      <td>Plus</td>\n",
       "    </tr>\n",
       "    <tr>\n",
       "      <th>2</th>\n",
       "      <td>Swim</td>\n",
       "    </tr>\n",
       "    <tr>\n",
       "      <th>3</th>\n",
       "      <td>Active</td>\n",
       "    </tr>\n",
       "    <tr>\n",
       "      <th>4</th>\n",
       "      <td>Socks &amp; Hosiery</td>\n",
       "    </tr>\n",
       "    <tr>\n",
       "      <th>5</th>\n",
       "      <td>Socks</td>\n",
       "    </tr>\n",
       "    <tr>\n",
       "      <th>6</th>\n",
       "      <td>Dresses</td>\n",
       "    </tr>\n",
       "    <tr>\n",
       "      <th>7</th>\n",
       "      <td>Pants &amp; Capris</td>\n",
       "    </tr>\n",
       "    <tr>\n",
       "      <th>8</th>\n",
       "      <td>Fashion Hoodies &amp; Sweatshirts</td>\n",
       "    </tr>\n",
       "    <tr>\n",
       "      <th>9</th>\n",
       "      <td>Skirts</td>\n",
       "    </tr>\n",
       "    <tr>\n",
       "      <th>10</th>\n",
       "      <td>Blazers &amp; Jackets</td>\n",
       "    </tr>\n",
       "    <tr>\n",
       "      <th>11</th>\n",
       "      <td>Suits</td>\n",
       "    </tr>\n",
       "    <tr>\n",
       "      <th>12</th>\n",
       "      <td>Tops &amp; Tees</td>\n",
       "    </tr>\n",
       "    <tr>\n",
       "      <th>13</th>\n",
       "      <td>Sweaters</td>\n",
       "    </tr>\n",
       "    <tr>\n",
       "      <th>14</th>\n",
       "      <td>Shorts</td>\n",
       "    </tr>\n",
       "    <tr>\n",
       "      <th>15</th>\n",
       "      <td>Jeans</td>\n",
       "    </tr>\n",
       "    <tr>\n",
       "      <th>16</th>\n",
       "      <td>Maternity</td>\n",
       "    </tr>\n",
       "    <tr>\n",
       "      <th>17</th>\n",
       "      <td>Sleep &amp; Lounge</td>\n",
       "    </tr>\n",
       "    <tr>\n",
       "      <th>18</th>\n",
       "      <td>Suits &amp; Sport Coats</td>\n",
       "    </tr>\n",
       "    <tr>\n",
       "      <th>19</th>\n",
       "      <td>Pants</td>\n",
       "    </tr>\n",
       "    <tr>\n",
       "      <th>20</th>\n",
       "      <td>Intimates</td>\n",
       "    </tr>\n",
       "    <tr>\n",
       "      <th>21</th>\n",
       "      <td>Outerwear &amp; Coats</td>\n",
       "    </tr>\n",
       "    <tr>\n",
       "      <th>22</th>\n",
       "      <td>Underwear</td>\n",
       "    </tr>\n",
       "    <tr>\n",
       "      <th>23</th>\n",
       "      <td>Leggings</td>\n",
       "    </tr>\n",
       "    <tr>\n",
       "      <th>24</th>\n",
       "      <td>Jumpsuits &amp; Rompers</td>\n",
       "    </tr>\n",
       "    <tr>\n",
       "      <th>25</th>\n",
       "      <td>Clothing Sets</td>\n",
       "    </tr>\n",
       "  </tbody>\n",
       "</table>\n",
       "</div>"
      ],
      "text/plain": [
       "                         category\n",
       "0                     Accessories\n",
       "1                            Plus\n",
       "2                            Swim\n",
       "3                          Active\n",
       "4                 Socks & Hosiery\n",
       "5                           Socks\n",
       "6                         Dresses\n",
       "7                  Pants & Capris\n",
       "8   Fashion Hoodies & Sweatshirts\n",
       "9                          Skirts\n",
       "10              Blazers & Jackets\n",
       "11                          Suits\n",
       "12                    Tops & Tees\n",
       "13                       Sweaters\n",
       "14                         Shorts\n",
       "15                          Jeans\n",
       "16                      Maternity\n",
       "17                 Sleep & Lounge\n",
       "18            Suits & Sport Coats\n",
       "19                          Pants\n",
       "20                      Intimates\n",
       "21              Outerwear & Coats\n",
       "22                      Underwear\n",
       "23                       Leggings\n",
       "24            Jumpsuits & Rompers\n",
       "25                  Clothing Sets"
      ]
     },
     "execution_count": 20,
     "metadata": {},
     "output_type": "execute_result"
    }
   ],
   "source": [
    "query = f\"\"\"\n",
    "SELECT DISTINCT category\n",
    "FROM `{products_table}`\n",
    "\"\"\"\n",
    "get_query(query)"
   ]
  },
  {
   "cell_type": "markdown",
   "id": "73e169bc-3709-4240-8e75-8a82ceadd2b4",
   "metadata": {},
   "source": [
    "El ecommerce vende ropa y accesorios"
   ]
  },
  {
   "cell_type": "markdown",
   "id": "b68b5449-e545-46bc-80ef-ca649473f1cd",
   "metadata": {},
   "source": [
    "## Qué departamento de productos tiene el negocio?"
   ]
  },
  {
   "cell_type": "code",
   "execution_count": 21,
   "id": "7aa9dc5b-c52a-4471-9d32-f45933df948c",
   "metadata": {},
   "outputs": [
    {
     "data": {
      "text/html": [
       "<div>\n",
       "<style scoped>\n",
       "    .dataframe tbody tr th:only-of-type {\n",
       "        vertical-align: middle;\n",
       "    }\n",
       "\n",
       "    .dataframe tbody tr th {\n",
       "        vertical-align: top;\n",
       "    }\n",
       "\n",
       "    .dataframe thead th {\n",
       "        text-align: right;\n",
       "    }\n",
       "</style>\n",
       "<table border=\"1\" class=\"dataframe\">\n",
       "  <thead>\n",
       "    <tr style=\"text-align: right;\">\n",
       "      <th></th>\n",
       "      <th>department</th>\n",
       "    </tr>\n",
       "  </thead>\n",
       "  <tbody>\n",
       "    <tr>\n",
       "      <th>0</th>\n",
       "      <td>Women</td>\n",
       "    </tr>\n",
       "    <tr>\n",
       "      <th>1</th>\n",
       "      <td>Men</td>\n",
       "    </tr>\n",
       "  </tbody>\n",
       "</table>\n",
       "</div>"
      ],
      "text/plain": [
       "  department\n",
       "0      Women\n",
       "1        Men"
      ]
     },
     "execution_count": 21,
     "metadata": {},
     "output_type": "execute_result"
    }
   ],
   "source": [
    "query = f\"\"\"\n",
    "SELECT DISTINCT department\n",
    "FROM `{products_table}`\n",
    "\"\"\"\n",
    "get_query(query)"
   ]
  },
  {
   "cell_type": "markdown",
   "id": "69feaf8d-ffd2-4181-8e87-147024fc91f2",
   "metadata": {},
   "source": [
    "- El negocio vende producto para hombres y mujeres\n",
    "- Puede que no venda producto para niños y bebes, se confirmará con la edad"
   ]
  },
  {
   "cell_type": "markdown",
   "id": "6b788be0-94da-48f5-abc5-e6f3e657397b",
   "metadata": {},
   "source": [
    "## Cuál es el rango de precio por sus productos?"
   ]
  },
  {
   "cell_type": "code",
   "execution_count": 22,
   "id": "7a35a499-7ed1-4681-95d6-9b123f901b91",
   "metadata": {},
   "outputs": [
    {
     "data": {
      "text/html": [
       "<div>\n",
       "<style scoped>\n",
       "    .dataframe tbody tr th:only-of-type {\n",
       "        vertical-align: middle;\n",
       "    }\n",
       "\n",
       "    .dataframe tbody tr th {\n",
       "        vertical-align: top;\n",
       "    }\n",
       "\n",
       "    .dataframe thead th {\n",
       "        text-align: right;\n",
       "    }\n",
       "</style>\n",
       "<table border=\"1\" class=\"dataframe\">\n",
       "  <thead>\n",
       "    <tr style=\"text-align: right;\">\n",
       "      <th></th>\n",
       "      <th>min_price</th>\n",
       "      <th>max_price</th>\n",
       "      <th>avg_price</th>\n",
       "    </tr>\n",
       "  </thead>\n",
       "  <tbody>\n",
       "    <tr>\n",
       "      <th>0</th>\n",
       "      <td>0.02</td>\n",
       "      <td>999.0</td>\n",
       "      <td>59.220164</td>\n",
       "    </tr>\n",
       "  </tbody>\n",
       "</table>\n",
       "</div>"
      ],
      "text/plain": [
       "   min_price  max_price  avg_price\n",
       "0       0.02      999.0  59.220164"
      ]
     },
     "execution_count": 22,
     "metadata": {},
     "output_type": "execute_result"
    }
   ],
   "source": [
    "query = f\"\"\"\n",
    "SELECT \n",
    "MIN(retail_price) AS min_price,\n",
    "MAX(retail_price) AS max_price,\n",
    "AVG(retail_price) AS avg_price\n",
    "FROM `{products_table}`\n",
    "\"\"\"\n",
    "get_query(query)"
   ]
  },
  {
   "cell_type": "markdown",
   "id": "5ca37386-f2a9-4743-94cf-67628dae9c4e",
   "metadata": {},
   "source": [
    "- Cuenta con productos de todas las gamas de precio\n",
    "- Por lo tanto, contará también con distintos grupos de usuarios según el monto de consumo."
   ]
  },
  {
   "cell_type": "markdown",
   "id": "0e18d467-5e3e-478e-aad4-86418d675af4",
   "metadata": {},
   "source": [
    "## Dónde se encuentran sus usuarios?"
   ]
  },
  {
   "cell_type": "code",
   "execution_count": 23,
   "id": "4af15940-7604-430c-95a1-4bf26706e32e",
   "metadata": {
    "scrolled": true
   },
   "outputs": [
    {
     "data": {
      "text/html": [
       "<div>\n",
       "<style scoped>\n",
       "    .dataframe tbody tr th:only-of-type {\n",
       "        vertical-align: middle;\n",
       "    }\n",
       "\n",
       "    .dataframe tbody tr th {\n",
       "        vertical-align: top;\n",
       "    }\n",
       "\n",
       "    .dataframe thead th {\n",
       "        text-align: right;\n",
       "    }\n",
       "</style>\n",
       "<table border=\"1\" class=\"dataframe\">\n",
       "  <thead>\n",
       "    <tr style=\"text-align: right;\">\n",
       "      <th></th>\n",
       "      <th>country</th>\n",
       "    </tr>\n",
       "  </thead>\n",
       "  <tbody>\n",
       "    <tr>\n",
       "      <th>0</th>\n",
       "      <td>Brasil</td>\n",
       "    </tr>\n",
       "    <tr>\n",
       "      <th>1</th>\n",
       "      <td>Japan</td>\n",
       "    </tr>\n",
       "    <tr>\n",
       "      <th>2</th>\n",
       "      <td>United States</td>\n",
       "    </tr>\n",
       "    <tr>\n",
       "      <th>3</th>\n",
       "      <td>Colombia</td>\n",
       "    </tr>\n",
       "    <tr>\n",
       "      <th>4</th>\n",
       "      <td>Spain</td>\n",
       "    </tr>\n",
       "    <tr>\n",
       "      <th>5</th>\n",
       "      <td>China</td>\n",
       "    </tr>\n",
       "    <tr>\n",
       "      <th>6</th>\n",
       "      <td>Australia</td>\n",
       "    </tr>\n",
       "    <tr>\n",
       "      <th>7</th>\n",
       "      <td>France</td>\n",
       "    </tr>\n",
       "    <tr>\n",
       "      <th>8</th>\n",
       "      <td>Germany</td>\n",
       "    </tr>\n",
       "    <tr>\n",
       "      <th>9</th>\n",
       "      <td>Belgium</td>\n",
       "    </tr>\n",
       "    <tr>\n",
       "      <th>10</th>\n",
       "      <td>South Korea</td>\n",
       "    </tr>\n",
       "    <tr>\n",
       "      <th>11</th>\n",
       "      <td>Poland</td>\n",
       "    </tr>\n",
       "    <tr>\n",
       "      <th>12</th>\n",
       "      <td>United Kingdom</td>\n",
       "    </tr>\n",
       "    <tr>\n",
       "      <th>13</th>\n",
       "      <td>España</td>\n",
       "    </tr>\n",
       "    <tr>\n",
       "      <th>14</th>\n",
       "      <td>Austria</td>\n",
       "    </tr>\n",
       "  </tbody>\n",
       "</table>\n",
       "</div>"
      ],
      "text/plain": [
       "           country\n",
       "0           Brasil\n",
       "1            Japan\n",
       "2    United States\n",
       "3         Colombia\n",
       "4            Spain\n",
       "5            China\n",
       "6        Australia\n",
       "7           France\n",
       "8          Germany\n",
       "9          Belgium\n",
       "10     South Korea\n",
       "11          Poland\n",
       "12  United Kingdom\n",
       "13          España\n",
       "14         Austria"
      ]
     },
     "execution_count": 23,
     "metadata": {},
     "output_type": "execute_result"
    }
   ],
   "source": [
    "query = f\"\"\"\n",
    "SELECT DISTINCT country\n",
    "FROM `{users_table}`\n",
    "\"\"\"\n",
    "get_query(query)"
   ]
  },
  {
   "cell_type": "markdown",
   "id": "04366fb8-0a96-41e4-8c91-8451dbcc1870",
   "metadata": {},
   "source": [
    "- Cuenta con una amplia cobertura de países donde llegan sus productos.\n",
    "- No solo en América, sino también Europa, Asia, Oceanía."
   ]
  },
  {
   "cell_type": "markdown",
   "id": "b3181734-4e03-40b7-a18e-7d911d7066dc",
   "metadata": {},
   "source": [
    "## Qué edad tienen sus usuarios?"
   ]
  },
  {
   "cell_type": "code",
   "execution_count": 42,
   "id": "142364cc-5d13-42c4-b2f5-0edae69f8eb3",
   "metadata": {},
   "outputs": [
    {
     "data": {
      "image/png": "[encoded data removed]",
      "text/plain": [
       "<Figure size 640x480 with 1 Axes>"
      ]
     },
     "metadata": {},
     "output_type": "display_data"
    }
   ],
   "source": [
    "query = f\"\"\"\n",
    "SELECT age\n",
    "FROM `{users_table}`\n",
    "\"\"\"\n",
    "sns.histplot(data=get_query(query), x='age', stat='count');\n",
    "plt.xlabel('Edad');\n",
    "plt.ylabel('Conteo');\n",
    "plt.title('Histograma de conteo de Edades');"
   ]
  },
  {
   "cell_type": "markdown",
   "id": "752b6bb0-47a1-4103-9f00-e9842e8e908a",
   "metadata": {},
   "source": [
    "- Los usuarios van desde los 12 hasta los 70 años\n",
    "- El negocio comprende un público adolescente, juvenil, adulto y adulto mayor"
   ]
  },
  {
   "cell_type": "markdown",
   "id": "af9948c2-85f1-43fb-8909-90c96e5a6cd9",
   "metadata": {},
   "source": [
    "## Cómo conocen los usuarios el negocio?"
   ]
  },
  {
   "cell_type": "code",
   "execution_count": 52,
   "id": "823f640d-0c43-4630-a878-2d935b1ec74f",
   "metadata": {},
   "outputs": [
    {
     "data": {
      "text/html": [
       "<div>\n",
       "<style scoped>\n",
       "    .dataframe tbody tr th:only-of-type {\n",
       "        vertical-align: middle;\n",
       "    }\n",
       "\n",
       "    .dataframe tbody tr th {\n",
       "        vertical-align: top;\n",
       "    }\n",
       "\n",
       "    .dataframe thead th {\n",
       "        text-align: right;\n",
       "    }\n",
       "</style>\n",
       "<table border=\"1\" class=\"dataframe\">\n",
       "  <thead>\n",
       "    <tr style=\"text-align: right;\">\n",
       "      <th></th>\n",
       "      <th>traffic_source</th>\n",
       "      <th>count</th>\n",
       "    </tr>\n",
       "  </thead>\n",
       "  <tbody>\n",
       "    <tr>\n",
       "      <th>0</th>\n",
       "      <td>Search</td>\n",
       "      <td>69952</td>\n",
       "    </tr>\n",
       "    <tr>\n",
       "      <th>1</th>\n",
       "      <td>Organic</td>\n",
       "      <td>14951</td>\n",
       "    </tr>\n",
       "    <tr>\n",
       "      <th>2</th>\n",
       "      <td>Facebook</td>\n",
       "      <td>6160</td>\n",
       "    </tr>\n",
       "    <tr>\n",
       "      <th>3</th>\n",
       "      <td>Email</td>\n",
       "      <td>4996</td>\n",
       "    </tr>\n",
       "    <tr>\n",
       "      <th>4</th>\n",
       "      <td>Display</td>\n",
       "      <td>3941</td>\n",
       "    </tr>\n",
       "  </tbody>\n",
       "</table>\n",
       "</div>"
      ],
      "text/plain": [
       "  traffic_source  count\n",
       "0         Search  69952\n",
       "1        Organic  14951\n",
       "2       Facebook   6160\n",
       "3          Email   4996\n",
       "4        Display   3941"
      ]
     },
     "execution_count": 52,
     "metadata": {},
     "output_type": "execute_result"
    }
   ],
   "source": [
    "query = f\"\"\"\n",
    "SELECT DISTINCT traffic_source, COUNT(*) AS count\n",
    "FROM `{users_table}`\n",
    "GROUP BY traffic_source\n",
    "ORDER BY count DESC\n",
    "\"\"\"\n",
    "get_query(query)"
   ]
  },
  {
   "cell_type": "markdown",
   "id": "b33a0343-5bb0-4bca-a890-9e6bc226b570",
   "metadata": {},
   "source": [
    "Los usuarios conocen el negocio de 5 maneras distintas, siendo la `búsqueda` la fuente de tráfico con más usuarios reportados."
   ]
  },
  {
   "cell_type": "markdown",
   "id": "e17bcce4-4c1f-4989-93a2-beac6dd174db",
   "metadata": {},
   "source": [
    "## Cuántos usuarios hombres y mujeres maneja el negocio?"
   ]
  },
  {
   "cell_type": "code",
   "execution_count": 53,
   "id": "7b8211b3-4eb5-4d63-9012-d1412c78b8d4",
   "metadata": {},
   "outputs": [
    {
     "data": {
      "text/html": [
       "<div>\n",
       "<style scoped>\n",
       "    .dataframe tbody tr th:only-of-type {\n",
       "        vertical-align: middle;\n",
       "    }\n",
       "\n",
       "    .dataframe tbody tr th {\n",
       "        vertical-align: top;\n",
       "    }\n",
       "\n",
       "    .dataframe thead th {\n",
       "        text-align: right;\n",
       "    }\n",
       "</style>\n",
       "<table border=\"1\" class=\"dataframe\">\n",
       "  <thead>\n",
       "    <tr style=\"text-align: right;\">\n",
       "      <th></th>\n",
       "      <th>gender</th>\n",
       "      <th>count</th>\n",
       "    </tr>\n",
       "  </thead>\n",
       "  <tbody>\n",
       "    <tr>\n",
       "      <th>0</th>\n",
       "      <td>F</td>\n",
       "      <td>50046</td>\n",
       "    </tr>\n",
       "    <tr>\n",
       "      <th>1</th>\n",
       "      <td>M</td>\n",
       "      <td>49954</td>\n",
       "    </tr>\n",
       "  </tbody>\n",
       "</table>\n",
       "</div>"
      ],
      "text/plain": [
       "  gender  count\n",
       "0      F  50046\n",
       "1      M  49954"
      ]
     },
     "execution_count": 53,
     "metadata": {},
     "output_type": "execute_result"
    }
   ],
   "source": [
    "query = f\"\"\"\n",
    "SELECT DISTINCT gender, COUNT(*) AS count\n",
    "FROM `{users_table}`\n",
    "GROUP BY gender\n",
    "ORDER BY count DESC\n",
    "\"\"\"\n",
    "get_query(query)"
   ]
  },
  {
   "cell_type": "markdown",
   "id": "e4e09305-d55b-4e54-9f0a-a22a3d646087",
   "metadata": {},
   "source": [
    "Las mujeres son el género que más interacción tiene con la tiendo, pero no muy lejos de los hombres."
   ]
  },
  {
   "cell_type": "markdown",
   "id": "aede062d-fd68-43e9-af69-1c7215215052",
   "metadata": {},
   "source": [
    "# Analizando el negocio"
   ]
  },
  {
   "cell_type": "markdown",
   "id": "1f2bc93f-50e9-4eec-971f-d96c3097028e",
   "metadata": {},
   "source": [
    "## Cuántas ventas por año ha obtenido el negocio?"
   ]
  },
  {
   "cell_type": "code",
   "execution_count": 67,
   "id": "7c50b2e8-b601-4dce-8ac6-292b129a1084",
   "metadata": {},
   "outputs": [
    {
     "data": {
      "image/png": "[encoded data removed]",
      "text/plain": [
       "<Figure size 640x480 with 1 Axes>"
      ]
     },
     "metadata": {},
     "output_type": "display_data"
    }
   ],
   "source": [
    "query = f\"\"\"\n",
    "SELECT \n",
    "    EXTRACT(YEAR FROM created_at) AS year,\n",
    "    COUNT(order_id) AS orders,\n",
    "FROM `{orders_table}`\n",
    "WHERE status = 'Complete'\n",
    "GROUP BY year\n",
    "ORDER BY year DESC\n",
    "\"\"\"\n",
    "sns.barplot(get_query(query), x='year', y='orders');\n",
    "plt.title('Órdenes completadas por cada año');\n",
    "plt.xlabel('Órdenes');\n",
    "plt.ylabel('Años');"
   ]
  },
  {
   "cell_type": "markdown",
   "id": "2f644daa-3a61-4037-bdbd-30392cd76151",
   "metadata": {},
   "source": [
    "- El negocio con el pasar de años ha ido creciendo.\n",
    "- Las ventas reflejan un crecimiento de casi el doble en el 2024\n",
    "- El 2025 parece ser un año igual de prometedor que el 2024 debido a que aún no se ha terminado"
   ]
  },
  {
   "cell_type": "markdown",
   "id": "9f427dc1-0b37-46e1-8f8e-57778dda46b9",
   "metadata": {},
   "source": [
    "## Cuáles son los ingresos y costos por año del negocio?"
   ]
  },
  {
   "cell_type": "code",
   "execution_count": 100,
   "id": "b7153472-7d6e-4c1f-bb36-b2abed3ff2aa",
   "metadata": {},
   "outputs": [
    {
     "data": {
      "text/html": [
       "<div>\n",
       "<style scoped>\n",
       "    .dataframe tbody tr th:only-of-type {\n",
       "        vertical-align: middle;\n",
       "    }\n",
       "\n",
       "    .dataframe tbody tr th {\n",
       "        vertical-align: top;\n",
       "    }\n",
       "\n",
       "    .dataframe thead th {\n",
       "        text-align: right;\n",
       "    }\n",
       "</style>\n",
       "<table border=\"1\" class=\"dataframe\">\n",
       "  <thead>\n",
       "    <tr style=\"text-align: right;\">\n",
       "      <th></th>\n",
       "      <th>year</th>\n",
       "      <th>type</th>\n",
       "      <th>value</th>\n",
       "    </tr>\n",
       "  </thead>\n",
       "  <tbody>\n",
       "    <tr>\n",
       "      <th>0</th>\n",
       "      <td>2019</td>\n",
       "      <td>revenue</td>\n",
       "      <td>32394.49</td>\n",
       "    </tr>\n",
       "    <tr>\n",
       "      <th>1</th>\n",
       "      <td>2020</td>\n",
       "      <td>revenue</td>\n",
       "      <td>107683.70</td>\n",
       "    </tr>\n",
       "    <tr>\n",
       "      <th>2</th>\n",
       "      <td>2021</td>\n",
       "      <td>revenue</td>\n",
       "      <td>211576.92</td>\n",
       "    </tr>\n",
       "    <tr>\n",
       "      <th>3</th>\n",
       "      <td>2022</td>\n",
       "      <td>revenue</td>\n",
       "      <td>331088.24</td>\n",
       "    </tr>\n",
       "    <tr>\n",
       "      <th>4</th>\n",
       "      <td>2023</td>\n",
       "      <td>revenue</td>\n",
       "      <td>499825.36</td>\n",
       "    </tr>\n",
       "  </tbody>\n",
       "</table>\n",
       "</div>"
      ],
      "text/plain": [
       "   year     type      value\n",
       "0  2019  revenue   32394.49\n",
       "1  2020  revenue  107683.70\n",
       "2  2021  revenue  211576.92\n",
       "3  2022  revenue  331088.24\n",
       "4  2023  revenue  499825.36"
      ]
     },
     "execution_count": 100,
     "metadata": {},
     "output_type": "execute_result"
    }
   ],
   "source": [
    "q = f\"\"\"\n",
    "SELECT \n",
    "    EXTRACT(YEAR FROM oi.created_at) AS year,\n",
    "    ROUND(SUM(p.cost), 2) AS cost,\n",
    "    ROUND(SUM(oi.sale_price), 2) AS revenue\n",
    "FROM `{order_items_table}` AS oi\n",
    "INNER JOIN `{products_table}` AS p\n",
    "ON oi.product_id = p.id\n",
    "WHERE oi.status = 'Complete'\n",
    "GROUP BY year\n",
    "ORDER BY year\n",
    "\"\"\"\n",
    "df_q = get_query(q)\n",
    "df_q_melt = pd.melt(df_q, id_vars='year',\n",
    "                    value_vars=['revenue', 'cost'],\n",
    "                    var_name='type',\n",
    "                    value_name='value')\n",
    "df_q_melt.head()"
   ]
  },
  {
   "cell_type": "code",
   "execution_count": 92,
   "id": "c68913f9-1f23-4e49-bca0-b42c614b96f6",
   "metadata": {},
   "outputs": [
    {
     "data": {
      "image/png": "[encoded data removed]",
      "text/plain": [
       "<Figure size 640x480 with 1 Axes>"
      ]
     },
     "metadata": {},
     "output_type": "display_data"
    }
   ],
   "source": [
    "ax = sns.barplot(data=df_q_melt, x='year', y='value', hue='type')\n",
    "plt.xlabel('Año')\n",
    "plt.ylabel('Dólares')\n",
    "plt.title('Ingreso/Costo de productos por año');"
   ]
  },
  {
   "cell_type": "markdown",
   "id": "ab1ebe45-c98a-4218-a4a3-ddca9b952e6d",
   "metadata": {},
   "source": [
    "- Los ingresos han ido aumentando considerablemente cada año\n",
    "- Los costos se mantienen alrededor de la mitad de los ingresos por cada año\n",
    "- El año 2024 ha sido el año con mayores ingresos\n",
    "- Siguen el patrón del gráfico de ordenes completadas por año"
   ]
  },
  {
   "cell_type": "markdown",
   "id": "675acf23-d8a4-49ac-9293-d8ae0aeadd3b",
   "metadata": {},
   "source": [
    "## Cuál es la categoría de productos que más se ha vendido?"
   ]
  },
  {
   "cell_type": "code",
   "execution_count": 99,
   "id": "7f0e6a5c-1c08-4034-8645-77eb2962ec4b",
   "metadata": {},
   "outputs": [
    {
     "data": {
      "text/html": [
       "<div>\n",
       "<style scoped>\n",
       "    .dataframe tbody tr th:only-of-type {\n",
       "        vertical-align: middle;\n",
       "    }\n",
       "\n",
       "    .dataframe tbody tr th {\n",
       "        vertical-align: top;\n",
       "    }\n",
       "\n",
       "    .dataframe thead th {\n",
       "        text-align: right;\n",
       "    }\n",
       "</style>\n",
       "<table border=\"1\" class=\"dataframe\">\n",
       "  <thead>\n",
       "    <tr style=\"text-align: right;\">\n",
       "      <th></th>\n",
       "      <th>category</th>\n",
       "      <th>sales</th>\n",
       "    </tr>\n",
       "  </thead>\n",
       "  <tbody>\n",
       "    <tr>\n",
       "      <th>0</th>\n",
       "      <td>Outerwear &amp; Coats</td>\n",
       "      <td>335324.77</td>\n",
       "    </tr>\n",
       "    <tr>\n",
       "      <th>1</th>\n",
       "      <td>Jeans</td>\n",
       "      <td>315854.17</td>\n",
       "    </tr>\n",
       "    <tr>\n",
       "      <th>2</th>\n",
       "      <td>Sweaters</td>\n",
       "      <td>210011.05</td>\n",
       "    </tr>\n",
       "    <tr>\n",
       "      <th>3</th>\n",
       "      <td>Fashion Hoodies &amp; Sweatshirts</td>\n",
       "      <td>161905.82</td>\n",
       "    </tr>\n",
       "    <tr>\n",
       "      <th>4</th>\n",
       "      <td>Swim</td>\n",
       "      <td>160268.94</td>\n",
       "    </tr>\n",
       "  </tbody>\n",
       "</table>\n",
       "</div>"
      ],
      "text/plain": [
       "                        category      sales\n",
       "0              Outerwear & Coats  335324.77\n",
       "1                          Jeans  315854.17\n",
       "2                       Sweaters  210011.05\n",
       "3  Fashion Hoodies & Sweatshirts  161905.82\n",
       "4                           Swim  160268.94"
      ]
     },
     "execution_count": 99,
     "metadata": {},
     "output_type": "execute_result"
    }
   ],
   "source": [
    "q = f\"\"\"\n",
    "SELECT\n",
    "    p.category,\n",
    "    ROUND(SUM(oi.sale_price), 2) AS sales\n",
    "FROM `{order_items_table}` AS oi\n",
    "INNER JOIN `{products_table}` AS p\n",
    "ON p.id = oi.product_id\n",
    "WHERE status = 'Complete'\n",
    "GROUP BY p.category\n",
    "ORDER BY sales DESC\n",
    "\"\"\"\n",
    "get_query(q).head()"
   ]
  },
  {
   "cell_type": "markdown",
   "id": "11ba27d8-2156-4dbe-8d1b-f70c0db69aa2",
   "metadata": {},
   "source": [
    "- La ropa de exterior y abrigos, junto con los Jeans, son las productos más vendidos\n",
    "- En sí, la tienda vende mucho más ropa para el frío que ropa de verano"
   ]
  },
  {
   "cell_type": "markdown",
   "id": "c51a9b6b-4abd-4850-8220-6a6c07cc2408",
   "metadata": {},
   "source": [
    "## Cuál categoría fue la más vendida por año?"
   ]
  },
  {
   "cell_type": "code",
   "execution_count": 121,
   "id": "29fd4261-dcd2-458d-80f8-8fc3df86bbfd",
   "metadata": {},
   "outputs": [],
   "source": [
    "q = f\"\"\"\n",
    "WITH category_sales_by_year AS (\n",
    "    SELECT \n",
    "        EXTRACT(YEAR FROM oi.created_at) AS year,\n",
    "        p.category,\n",
    "        ROUND(SUM(oi.sale_price), 2) AS sales\n",
    "    FROM `{order_items_table}` AS oi\n",
    "    INNER JOIN `{products_table}` AS p\n",
    "    ON p.id = oi.product_id\n",
    "    WHERE oi.status = 'Complete'\n",
    "    GROUP BY year, p.category\n",
    "),\n",
    "ranked_categories AS (\n",
    "    SELECT *,\n",
    "           ROW_NUMBER() OVER (PARTITION BY year ORDER BY sales DESC) AS rn\n",
    "    FROM category_sales_by_year\n",
    ")\n",
    "SELECT year, category, sales\n",
    "FROM ranked_categories\n",
    "WHERE rn = 1\n",
    "ORDER BY year;\n",
    "\"\"\"\n",
    "df_q = get_query(q)"
   ]
  },
  {
   "cell_type": "code",
   "execution_count": 126,
   "id": "bfc6c947-86b0-4953-be95-4fdbf17e5f84",
   "metadata": {},
   "outputs": [
    {
     "data": {
      "image/png": "[encoded data removed]",
      "text/plain": [
       "<Figure size 640x480 with 1 Axes>"
      ]
     },
     "metadata": {},
     "output_type": "display_data"
    }
   ],
   "source": [
    "sns.barplot(data=df_q, x='year', y='sales', hue='category')\n",
    "plt.legend(title='Categoría')\n",
    "plt.title('Categorías con mayor ventas por año')\n",
    "plt.xlabel('Año')\n",
    "plt.ylabel('Ventas');"
   ]
  },
  {
   "cell_type": "markdown",
   "id": "1a786db3-3c24-4c45-a73b-7c259a2551ae",
   "metadata": {},
   "source": [
    "- En su comienzo, el negocio vendió más `jeans` que cualquier otra categoría\n",
    "- El año 2024 tiene el mayor registro de ventas y la categoría más vendida es `Outerwear & Coats` \n",
    "- Esta última categoría es la que domina en ventas"
   ]
  },
  {
   "cell_type": "code",
   "execution_count": 127,
   "id": "8e3ee6ab-a372-43d8-aaaf-81bffc4a017b",
   "metadata": {},
   "outputs": [],
   "source": [
    "# Todo: Continuar con más preguntas y hacer un modelo de recomendación de productos"
   ]
  },
  {
   "cell_type": "code",
   "execution_count": null,
   "id": "3e5ca727-f136-4c88-ae14-1d50328ebcc4",
   "metadata": {},
   "outputs": [],
   "source": []
  }
 ],
 "metadata": {
  "kernelspec": {
   "display_name": "Python 3 (ipykernel)",
   "language": "python",
   "name": "python3"
  },
  "language_info": {
   "codemirror_mode": {
    "name": "ipython",
    "version": 3
   },
   "file_extension": ".py",
   "mimetype": "text/x-python",
   "name": "python",
   "nbconvert_exporter": "python",
   "pygments_lexer": "ipython3",
   "version": "3.13.3"
  }
 },
 "nbformat": 4,
 "nbformat_minor": 5
}
